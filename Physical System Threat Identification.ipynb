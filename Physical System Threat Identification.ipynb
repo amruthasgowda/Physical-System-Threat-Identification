{
 "cells": [
  {
   "cell_type": "code",
   "execution_count": 2,
   "id": "86332edf",
   "metadata": {},
   "outputs": [],
   "source": [
    "# IMPORT PACKAGES \n",
    "\n",
    "import pandas as pd\n",
    "from sklearn import preprocessing\n",
    "from sklearn.model_selection import train_test_split \n",
    "from tensorflow.keras.models import Sequential\n",
    "from tensorflow.keras.layers import LSTM\n",
    "from tensorflow.keras.layers import  Dropout,Dense\n",
    "import numpy as np\n",
    "from sklearn import metrics\n"
   ]
  },
  {
   "cell_type": "code",
   "execution_count": 3,
   "id": "2fa8da3c",
   "metadata": {},
   "outputs": [
    {
     "name": "stdout",
     "output_type": "stream",
     "text": [
      "====================================================\n",
      "                     Data Selection                 \n",
      "====================================================\n",
      "\n",
      "    id       dur proto service state  spkts  dpkts  sbytes  dbytes       rate  \\\n",
      "0    1  0.121478   tcp       -   FIN      6      4     258     172  74.087490   \n",
      "1    2  0.649902   tcp       -   FIN     14     38     734   42014  78.473372   \n",
      "2    3  1.623129   tcp       -   FIN      8     16     364   13186  14.170161   \n",
      "3    4  1.681642   tcp     ftp   FIN     12     12     628     770  13.677108   \n",
      "4    5  0.449454   tcp       -   FIN     10      6     534     268  33.373826   \n",
      "5    6  0.380537   tcp       -   FIN     10      6     534     268  39.417980   \n",
      "6    7  0.637109   tcp       -   FIN     10      8     534     354  26.683033   \n",
      "7    8  0.521584   tcp       -   FIN     10      8     534     354  32.593026   \n",
      "8    9  0.542905   tcp       -   FIN     10      8     534     354  31.313031   \n",
      "9   10  0.258687   tcp       -   FIN     10      6     534     268  57.985135   \n",
      "10  11  0.304853   tcp       -   FIN     12      6    4142     268  55.764583   \n",
      "11  12  2.093085   tcp    smtp   FIN     62     28   56329    2212  42.520967   \n",
      "12  13  0.416952   tcp       -   FIN     10      6     534     268  35.975363   \n",
      "13  14  0.996221   tcp       -   FIN     10      8     564     354  17.064487   \n",
      "14  15  0.576755   tcp       -   FIN     10      8     534     354  29.475254   \n",
      "\n",
      "    ...  ct_dst_sport_ltm  ct_dst_src_ltm  is_ftp_login  ct_ftp_cmd  \\\n",
      "0   ...                 1               1             0           0   \n",
      "1   ...                 1               2             0           0   \n",
      "2   ...                 1               3             0           0   \n",
      "3   ...                 1               3             1           1   \n",
      "4   ...                 1              40             0           0   \n",
      "5   ...                 1              40             0           0   \n",
      "6   ...                 1              40             0           0   \n",
      "7   ...                 1              40             0           0   \n",
      "8   ...                 1              40             0           0   \n",
      "9   ...                 1              40             0           0   \n",
      "10  ...                 1               3             0           0   \n",
      "11  ...                 1               2             0           0   \n",
      "12  ...                 1              40             0           0   \n",
      "13  ...                 1               3             0           0   \n",
      "14  ...                 1              40             0           0   \n",
      "\n",
      "    ct_flw_http_mthd  ct_src_ltm  ct_srv_dst  is_sm_ips_ports  attack_cat  \\\n",
      "0                  0           1           1                0      Normal   \n",
      "1                  0           1           6                0      Normal   \n",
      "2                  0           2           6                0      Normal   \n",
      "3                  0           2           1                0      Normal   \n",
      "4                  0           2          39                0      Normal   \n",
      "5                  0           2          39                0      Normal   \n",
      "6                  0           1          39                0      Normal   \n",
      "7                  0           3          39                0      Normal   \n",
      "8                  0           3          39                0      Normal   \n",
      "9                  0           3          39                0      Normal   \n",
      "10                 0           1           6                0      Normal   \n",
      "11                 0           1           1                0      Normal   \n",
      "12                 0           1          39                0      Normal   \n",
      "13                 0           2           3                0      Normal   \n",
      "14                 0           1          39                0      Normal   \n",
      "\n",
      "    label  \n",
      "0       0  \n",
      "1       0  \n",
      "2       0  \n",
      "3       0  \n",
      "4       0  \n",
      "5       0  \n",
      "6       0  \n",
      "7       0  \n",
      "8       0  \n",
      "9       0  \n",
      "10      0  \n",
      "11      0  \n",
      "12      0  \n",
      "13      0  \n",
      "14      0  \n",
      "\n",
      "[15 rows x 45 columns]\n"
     ]
    }
   ],
   "source": [
    "#  DATA SELECTION \n",
    "\n",
    "dataframe=pd.read_csv(\"UNSW_NB15.csv\")\n",
    "print(\"====================================================\")\n",
    "print(\"                     Data Selection                 \")\n",
    "print(\"====================================================\")\n",
    "print()\n",
    "print(dataframe.head(15))\n",
    "# PRE PROCESSING "
   ]
  },
  {
   "cell_type": "code",
   "execution_count": 4,
   "id": "a0f36443",
   "metadata": {},
   "outputs": [
    {
     "name": "stdout",
     "output_type": "stream",
     "text": [
      "====================================================\n",
      "            Handling Missing values                 \n",
      "====================================================\n",
      "\n",
      "id                   0\n",
      "dur                  0\n",
      "proto                0\n",
      "service              0\n",
      "state                0\n",
      "spkts                0\n",
      "dpkts                0\n",
      "sbytes               0\n",
      "dbytes               0\n",
      "rate                 0\n",
      "sttl                 0\n",
      "dttl                 0\n",
      "sload                0\n",
      "dload                0\n",
      "sloss                0\n",
      "dloss                0\n",
      "sinpkt               0\n",
      "dinpkt               0\n",
      "sjit                 0\n",
      "djit                 0\n",
      "swin                 0\n",
      "stcpb                0\n",
      "dtcpb                0\n",
      "dwin                 0\n",
      "tcprtt               0\n",
      "synack               0\n",
      "ackdat               0\n",
      "smean                0\n",
      "dmean                0\n",
      "trans_depth          0\n",
      "response_body_len    0\n",
      "ct_srv_src           0\n",
      "ct_state_ttl         0\n",
      "ct_dst_ltm           0\n",
      "ct_src_dport_ltm     0\n",
      "ct_dst_sport_ltm     0\n",
      "ct_dst_src_ltm       0\n",
      "is_ftp_login         0\n",
      "ct_ftp_cmd           0\n",
      "ct_flw_http_mthd     0\n",
      "ct_src_ltm           0\n",
      "ct_srv_dst           0\n",
      "is_sm_ips_ports      0\n",
      "attack_cat           0\n",
      "label                0\n",
      "dtype: int64\n"
     ]
    }
   ],
   "source": [
    "#=  checking missing values \n",
    "\n",
    "print(\"====================================================\")\n",
    "print(\"            Handling Missing values                 \")\n",
    "print(\"====================================================\")\n",
    "print()\n",
    "print(dataframe.isnull().sum())"
   ]
  },
  {
   "cell_type": "code",
   "execution_count": 5,
   "id": "1c16c79e",
   "metadata": {},
   "outputs": [
    {
     "name": "stdout",
     "output_type": "stream",
     "text": [
      "====================================================\n",
      "              Before Label Encoding                 \n",
      "====================================================\n",
      "\n",
      "0    Normal\n",
      "1    Normal\n",
      "2    Normal\n",
      "3    Normal\n",
      "4    Normal\n",
      "5    Normal\n",
      "6    Normal\n",
      "7    Normal\n",
      "8    Normal\n",
      "9    Normal\n",
      "Name: attack_cat, dtype: object\n"
     ]
    }
   ],
   "source": [
    "# label encoding \n",
    "\n",
    "label_encoder = preprocessing.LabelEncoder() \n",
    "\n",
    "print(\"====================================================\")\n",
    "print(\"              Before Label Encoding                 \")\n",
    "print(\"====================================================\")\n",
    "print()\n",
    "print(dataframe['attack_cat'].head(10))"
   ]
  },
  {
   "cell_type": "code",
   "execution_count": 6,
   "id": "76c1918a",
   "metadata": {},
   "outputs": [
    {
     "name": "stdout",
     "output_type": "stream",
     "text": [
      "====================================================\n",
      "              After Label Encoding                  \n",
      "====================================================\n",
      "\n",
      "0    6\n",
      "1    6\n",
      "2    6\n",
      "3    6\n",
      "4    6\n",
      "5    6\n",
      "6    6\n",
      "7    6\n",
      "8    6\n",
      "9    6\n",
      "Name: attack_cat, dtype: int32\n"
     ]
    }
   ],
   "source": [
    "print(\"====================================================\")\n",
    "print(\"              After Label Encoding                  \")\n",
    "print(\"====================================================\")\n",
    "print()\n",
    "\n",
    "dataframe['attack_cat']= label_encoder.fit_transform(dataframe['attack_cat'])\n",
    "\n",
    "print(dataframe['attack_cat'].head(10))\n",
    "\n",
    "dataframe['proto']= label_encoder.fit_transform(dataframe['proto'])\n",
    "\n",
    "dataframe['service']= label_encoder.fit_transform(dataframe['service'])\n",
    "\n",
    "dataframe['state']= label_encoder.fit_transform(dataframe['state'])\n"
   ]
  },
  {
   "cell_type": "code",
   "execution_count": 7,
   "id": "5fd17c12",
   "metadata": {},
   "outputs": [
    {
     "name": "stdout",
     "output_type": "stream",
     "text": [
      "===============================================\n",
      "             Data Splitting                    \n",
      "===============================================\n",
      "\n",
      "Total no of data        : 175341\n",
      "Total no of test data   : 35069\n",
      "Total no of train data  : 140272\n"
     ]
    }
   ],
   "source": [
    "X=dataframe.drop(['label'],axis=1)\n",
    "y=dataframe['label']\n",
    "\n",
    "\n",
    "X_train, X_test, y_train, y_test = train_test_split(X, y, test_size=0.2, random_state=0)\n",
    "\n",
    "print(\"===============================================\")\n",
    "print(\"             Data Splitting                    \")\n",
    "print(\"===============================================\")\n",
    "print()\n",
    "\n",
    "print(\"Total no of data        :\",dataframe.shape[0])\n",
    "print(\"Total no of test data   :\",X_test.shape[0])\n",
    "print(\"Total no of train data  :\",X_train.shape[0])"
   ]
  },
  {
   "cell_type": "code",
   "execution_count": 8,
   "id": "ba17a7d5",
   "metadata": {},
   "outputs": [
    {
     "name": "stdout",
     "output_type": "stream",
     "text": [
      "====================================================\n",
      "          Principle component Analysis              \n",
      "====================================================\n",
      "\n",
      " The original features is : 44\n",
      "\n",
      " The reduced feature is   : 40\n",
      "\n"
     ]
    }
   ],
   "source": [
    "#  FEATURE EXTRACTION \n",
    "\n",
    "#  PCA \n",
    "\n",
    "from sklearn.decomposition import PCA\n",
    "\n",
    "pca = PCA(n_components = 40)\n",
    " \n",
    "X_train_pca = pca.fit_transform(X)\n",
    "\n",
    "\n",
    "print(\"====================================================\")\n",
    "print(\"          Principle component Analysis              \")\n",
    "print(\"====================================================\")\n",
    "print()\n",
    "print(\" The original features is :\", X.shape[1])\n",
    "print()\n",
    "print(\" The reduced feature is   :\",X_train_pca.shape[1])\n",
    "print()"
   ]
  },
  {
   "cell_type": "code",
   "execution_count": 9,
   "id": "89d1a2c1",
   "metadata": {},
   "outputs": [
    {
     "name": "stdout",
     "output_type": "stream",
     "text": [
      "====================================================\n",
      "            Long Short Term Memory                  \n",
      "====================================================\n",
      "\n"
     ]
    }
   ],
   "source": [
    "# CLASSIFICATION \n",
    "\n",
    "# LONG SHORT TERM MEMORY \n",
    "\n",
    "print(\"====================================================\")\n",
    "print(\"            Long Short Term Memory                  \")\n",
    "print(\"====================================================\")\n",
    "print()"
   ]
  },
  {
   "cell_type": "code",
   "execution_count": 13,
   "id": "f8b2adf6",
   "metadata": {},
   "outputs": [],
   "source": [
    "# DIMENSION FITTING \n",
    "\n",
    "x=np.expand_dims(X_train, axis=2)\n",
    "Y=np.expand_dims(y_train,axis=1)"
   ]
  },
  {
   "cell_type": "code",
   "execution_count": 14,
   "id": "dd24ef2e",
   "metadata": {},
   "outputs": [],
   "source": [
    "\n",
    "#  MODEL INITIALIZATION \n",
    "\n",
    "model = Sequential()\n",
    "\n",
    "# INPUT LAYER \n",
    "\n",
    "model.add(LSTM(input_shape=(44,1), kernel_initializer=\"uniform\", return_sequences=True, stateful=False, units=50))\n",
    "model.add(Dropout(0.2))"
   ]
  },
  {
   "cell_type": "code",
   "execution_count": 15,
   "id": "a8579ecd",
   "metadata": {},
   "outputs": [],
   "source": [
    "# HIDDEN LAYER \n",
    "\n",
    "model.add(LSTM(5, kernel_initializer=\"uniform\", activation='relu',return_sequences=False))\n",
    "model.add(Dropout(0.2))\n",
    "\n",
    "model.add(Dense(3,kernel_initializer=\"uniform\",activation='relu'))\n",
    "model.add(Dense(1, activation='linear'))"
   ]
  },
  {
   "cell_type": "code",
   "execution_count": 16,
   "id": "a76f5f82",
   "metadata": {},
   "outputs": [
    {
     "name": "stdout",
     "output_type": "stream",
     "text": [
      "Model: \"sequential_2\"\n",
      "_________________________________________________________________\n",
      " Layer (type)                Output Shape              Param #   \n",
      "=================================================================\n",
      " lstm_1 (LSTM)               (None, 44, 50)            10400     \n",
      "                                                                 \n",
      " dropout_1 (Dropout)         (None, 44, 50)            0         \n",
      "                                                                 \n",
      " lstm_2 (LSTM)               (None, 5)                 1120      \n",
      "                                                                 \n",
      " dropout_2 (Dropout)         (None, 5)                 0         \n",
      "                                                                 \n",
      " dense (Dense)               (None, 3)                 18        \n",
      "                                                                 \n",
      " dense_1 (Dense)             (None, 1)                 4         \n",
      "                                                                 \n",
      "=================================================================\n",
      "Total params: 11,542\n",
      "Trainable params: 11,542\n",
      "Non-trainable params: 0\n",
      "_________________________________________________________________\n",
      "\n"
     ]
    }
   ],
   "source": [
    "# COMPILATION \n",
    "\n",
    "model.compile(loss=\"mae\", optimizer='adam',metrics=['accuracy'])\n",
    "model.summary()\n",
    "print()"
   ]
  },
  {
   "cell_type": "code",
   "execution_count": 17,
   "id": "7410c1c7",
   "metadata": {},
   "outputs": [
    {
     "name": "stdout",
     "output_type": "stream",
     "text": [
      "Epoch 1/2\n",
      "1403/1403 [==============================] - 56s 37ms/step - loss: 0.2804 - accuracy: 0.7861\n",
      "Epoch 2/2\n",
      "1403/1403 [==============================] - 53s 38ms/step - loss: 0.2049 - accuracy: 0.8852\n",
      "4384/4384 [==============================] - 38s 9ms/step - loss: 0.1142 - accuracy: 0.9606\n",
      "4384/4384 [==============================] - 35s 8ms/step\n"
     ]
    }
   ],
   "source": [
    "#=== FITTING ===\n",
    "\n",
    "model.fit(x, Y, batch_size = 100, epochs = 2)\n",
    "\n",
    "Evaluate=model.evaluate(x,Y,verbose=1)\n",
    "\n",
    "y_pred1 = model.predict(x)"
   ]
  },
  {
   "cell_type": "code",
   "execution_count": 18,
   "id": "5372a53a",
   "metadata": {},
   "outputs": [
    {
     "name": "stdout",
     "output_type": "stream",
     "text": [
      "====================================================\n",
      "             Performance Analysis for LSTM          \n",
      "====================================================\n",
      "\n",
      "1.Accuracy: 96.05623483657837 %\n",
      "\n"
     ]
    }
   ],
   "source": [
    "#========================== PERFORMANCE ANALAYSIS ================================\n",
    "\n",
    "#===== confusion matrix ======\n",
    "\n",
    "print(\"====================================================\")\n",
    "print(\"             Performance Analysis for LSTM          \")\n",
    "print(\"====================================================\")\n",
    "print()\n",
    "accuracy1=Evaluate[1]*100\n",
    "print(\"1.Accuracy:\",accuracy1,'%')\n",
    "print()"
   ]
  },
  {
   "cell_type": "code",
   "execution_count": 19,
   "id": "e4fb6d55",
   "metadata": {},
   "outputs": [
    {
     "name": "stdout",
     "output_type": "stream",
     "text": [
      "====================================================\n",
      "             Performance Analysis for LR           \n",
      "====================================================\n",
      "\n",
      "1.Accuracy: 88.05782885169238 %\n",
      "\n"
     ]
    }
   ],
   "source": [
    "#==== RF ====\n",
    "\n",
    "from sklearn.linear_model import LogisticRegression\n",
    "\n",
    "lr = LogisticRegression(random_state = 1)\n",
    "\n",
    "lr.fit(X_train, y_train)\n",
    "\n",
    "pred_lr=lr.predict(X_test)\n",
    "\n",
    "print(\"====================================================\")\n",
    "print(\"             Performance Analysis for LR           \")\n",
    "print(\"====================================================\")\n",
    "print()\n",
    "\n",
    "acc=metrics.accuracy_score(pred_lr,y_test)*100\n",
    "\n",
    "print(\"1.Accuracy:\",acc,'%')\n",
    "print()\n"
   ]
  },
  {
   "cell_type": "code",
   "execution_count": 20,
   "id": "3b4dc46b",
   "metadata": {},
   "outputs": [
    {
     "name": "stdout",
     "output_type": "stream",
     "text": [
      "====================================================\n",
      "                      Prediction                    \n",
      "====================================================\n",
      "\n",
      "==============\n",
      "\n",
      "[1] Cyber Attack \n",
      "==============\n",
      "\n",
      "[2] Cyber Attack \n",
      "==============\n",
      "\n",
      "[3] Cyber Attack \n",
      "==============\n",
      "\n",
      "[4] Cyber Attack \n",
      "==============\n",
      "\n",
      "[5] Cyber Attack \n",
      "==============\n",
      "\n",
      "[6] Cyber Attack \n",
      "==============\n",
      "\n",
      "[7] Cyber Attack \n",
      "==============\n",
      "\n",
      "[8] Cyber Attack \n",
      "==============\n",
      "\n",
      "[9] Cyber Attack \n",
      "==============\n",
      "\n",
      "[10] Cyber Attack \n",
      "==============\n",
      "\n",
      "[11] Cyber Attack \n",
      "==============\n",
      "\n",
      "[12] Cyber Attack \n",
      "==============\n",
      "\n",
      "[13] Normal \n",
      "==============\n",
      "\n",
      "[14] Cyber Attack \n"
     ]
    }
   ],
   "source": [
    "#========================== PREDICTION ================================\n",
    "\n",
    "print(\"====================================================\")\n",
    "print(\"                      Prediction                    \")\n",
    "print(\"====================================================\")\n",
    "print()\n",
    "for i in range(1,15):\n",
    "    if pred_lr[i]== 0:\n",
    "        print(\"==============\")\n",
    "        print()\n",
    "        print([i],'Normal ')\n",
    "    else:\n",
    "        print(\"==============\")\n",
    "        print()\n",
    "        print([i],'Cyber Attack ')\n"
   ]
  },
  {
   "cell_type": "code",
   "execution_count": 22,
   "id": "484b4f7d",
   "metadata": {},
   "outputs": [
    {
     "data": {
      "image/png": "[encoded data removed]",
      "text/plain": [
       "<Figure size 640x480 with 1 Axes>"
      ]
     },
     "metadata": {},
     "output_type": "display_data"
    }
   ],
   "source": [
    "\n",
    "\n",
    "import matplotlib.pyplot as plt\n",
    "vals=[accuracy1,acc]\n",
    "inds=range(len(vals))\n",
    "labels=[\"LSTM \",\"LR\" ]\n",
    "fig,ax = plt.subplots()\n",
    "rects = ax.bar(inds, vals)\n",
    "ax.set_xticks([ind for ind in inds])\n",
    "ax.set_xticklabels(labels)\n",
    "plt.title('Comparison graph--Accuracy')\n",
    "plt.show() \n"
   ]
  },
  {
   "cell_type": "code",
   "execution_count": null,
   "id": "7965c983",
   "metadata": {},
   "outputs": [],
   "source": []
  }
 ],
 "metadata": {
  "kernelspec": {
   "display_name": "Python 3 (ipykernel)",
   "language": "python",
   "name": "python3"
  },
  "language_info": {
   "codemirror_mode": {
    "name": "ipython",
    "version": 3
   },
   "file_extension": ".py",
   "mimetype": "text/x-python",
   "name": "python",
   "nbconvert_exporter": "python",
   "pygments_lexer": "ipython3",
   "version": "3.10.9"
  }
 },
 "nbformat": 4,
 "nbformat_minor": 5
}
